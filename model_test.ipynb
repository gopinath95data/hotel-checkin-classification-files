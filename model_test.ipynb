{
 "cells": [
  {
   "cell_type": "code",
   "execution_count": 1,
   "id": "3e807be8-dcf1-46ec-a0a2-fc5a2e676034",
   "metadata": {},
   "outputs": [],
   "source": [
    "import pandas as pd\n",
    "import numpy as np\n",
    "\n",
    "import tensorflow as tf\n",
    "from tensorflow.keras import Sequential\n",
    "from tensorflow.keras.layers import LSTM, Dense, Dropout\n",
    "\n",
    "from sklearn.preprocessing import StandardScaler, OneHotEncoder\n",
    "from sklearn.model_selection import train_test_split\n",
    "from sklearn.metrics import accuracy_score, confusion_matrix\n",
    "\n",
    "from joblib import dump, load\n",
    "import seaborn as sns\n"
   ]
  },
  {
   "cell_type": "code",
   "execution_count": 3,
   "id": "380db03b-476f-487a-bc78-ec6a23575ff8",
   "metadata": {},
   "outputs": [],
   "source": [
    "def preprocess_data(df):\n",
    "    dfn = df.drop(df.columns[0:2], axis=1)\n",
    "    dfn = dfn.dropna(axis=0)\n",
    "    dfn = dfn.reset_index()\n",
    "    \n",
    "    dfc = dfn.copy()\n",
    "    top_c = ['BRA', 'PRT', 'FRA', 'DEU', 'ITA', 'GBR', 'ESP', 'USA', 'NLD', 'CHE']\n",
    "    dfc[\"new_nationality\"] = dfc[\"Nationality\"].apply(lambda x: x if x in top_c else \"Other\")\n",
    "    dfc[\"has_not_appeared\"] = np.where( (dfc[\"BookingsCheckedIn\"] == 0) , 1, 0)\n",
    "    drop_cols = ['index','Nationality','BookingsCanceled','BookingsNoShowed','BookingsCheckedIn']\n",
    "    cat_cols = [\"new_nationality\",\"MarketSegment\",\"DistributionChannel\"]\n",
    "    \n",
    "    ohe = load('encoder.joblib')\n",
    "    sc = load('scaler.joblib')\n",
    "    \n",
    "    encoded_train = ohe.transform(dfc[cat_cols]).toarray()\n",
    "    \n",
    "    ohdf = pd.DataFrame(encoded_train,columns = ohe.get_feature_names(cat_cols))\n",
    "    \n",
    "    combines_frames = [dfc,ohdf]\n",
    "    dfc = pd.concat(combines_frames,axis=1)\n",
    "\n",
    "    dfc = dfc.drop(drop_cols,axis=1)\n",
    "    dfc = dfc.drop(cat_cols,axis=1)\n",
    "    \n",
    "    X = dfc.drop(\"has_not_appeared\",axis=1)\n",
    "    y = dfc[\"has_not_appeared\"]\n",
    "    y = pd.get_dummies(y).values\n",
    "\n",
    "    X = sc.transform(X)\n",
    "    \n",
    "    return X, y"
   ]
  },
  {
   "cell_type": "code",
   "execution_count": 4,
   "id": "3131eaa7-a808-4185-8273-25971fa65c21",
   "metadata": {},
   "outputs": [],
   "source": [
    "df = pd.read_csv('./test.csv')\n",
    "X, y = preprocess_data(df)"
   ]
  },
  {
   "cell_type": "code",
   "execution_count": 5,
   "id": "205dafc4-e477-4cec-8204-6da91d30be36",
   "metadata": {},
   "outputs": [],
   "source": [
    "model = tf.keras.models.load_model('nn/')\n",
    "results = model.predict(X)\n",
    "pred_val = [x.argmax() for x in results]\n",
    "true_vals = [i.argmax() for i in y]\n",
    "\n",
    "cm_data = confusion_matrix(true_vals,pred_val)\n"
   ]
  },
  {
   "cell_type": "code",
   "execution_count": 8,
   "id": "dcecc90f-c983-41f5-bb82-79acf9842bc6",
   "metadata": {},
   "outputs": [
    {
     "data": {
      "text/plain": [
       "array([[468,   4],\n",
       "       [  0, 495]], dtype=int64)"
      ]
     },
     "execution_count": 8,
     "metadata": {},
     "output_type": "execute_result"
    }
   ],
   "source": [
    "cm_data"
   ]
  },
  {
   "cell_type": "code",
   "execution_count": 10,
   "id": "4fc7a639-265a-4b9a-b8f3-4fbe2e585199",
   "metadata": {},
   "outputs": [
    {
     "data": {
      "text/plain": [
       "<AxesSubplot:>"
      ]
     },
     "execution_count": 10,
     "metadata": {},
     "output_type": "execute_result"
    },
    {
     "data": {
      "image/png": "[encoded data removed]",
      "text/plain": [
       "<Figure size 432x288 with 2 Axes>"
      ]
     },
     "metadata": {
      "needs_background": "light"
     },
     "output_type": "display_data"
    }
   ],
   "source": [
    "sns.heatmap(cm_data, annot=True, fmt='g')"
   ]
  },
  {
   "cell_type": "code",
   "execution_count": null,
   "id": "3374f499-d6c0-4a5b-88f9-0e1357c8d8db",
   "metadata": {},
   "outputs": [],
   "source": []
  },
  {
   "cell_type": "code",
   "execution_count": null,
   "id": "513a5874-3078-4a36-82b4-9317dcd75f3d",
   "metadata": {},
   "outputs": [],
   "source": []
  },
  {
   "cell_type": "code",
   "execution_count": null,
   "id": "f96376d2-545b-4dbc-a8d6-97614ff808ba",
   "metadata": {},
   "outputs": [],
   "source": []
  },
  {
   "cell_type": "code",
   "execution_count": null,
   "id": "f96f1936-ed80-41ca-87ed-0f896c8e2677",
   "metadata": {},
   "outputs": [],
   "source": []
  },
  {
   "cell_type": "code",
   "execution_count": null,
   "id": "f015d439-3f44-4db4-9acc-a1dbfe0dc388",
   "metadata": {},
   "outputs": [],
   "source": []
  },
  {
   "cell_type": "code",
   "execution_count": null,
   "id": "ecd230e7-322f-4684-a5f2-eac7d77d3e6f",
   "metadata": {},
   "outputs": [],
   "source": []
  },
  {
   "cell_type": "code",
   "execution_count": null,
   "id": "1ace9453-0b04-432b-a3c1-5cd11b60eda5",
   "metadata": {},
   "outputs": [],
   "source": []
  },
  {
   "cell_type": "code",
   "execution_count": null,
   "id": "df6fd22d-5ecc-42cf-8232-80f4f7fe8b2b",
   "metadata": {},
   "outputs": [],
   "source": []
  },
  {
   "cell_type": "code",
   "execution_count": null,
   "id": "7ec24baf-8ad0-4c54-9b3a-cdc8acfd464b",
   "metadata": {},
   "outputs": [],
   "source": []
  },
  {
   "cell_type": "code",
   "execution_count": null,
   "id": "6d5c7ce4-17f7-4b7d-b001-863c20a79657",
   "metadata": {},
   "outputs": [],
   "source": []
  },
  {
   "cell_type": "code",
   "execution_count": null,
   "id": "a449eaba-245d-4dda-bb60-5d3f0393e222",
   "metadata": {},
   "outputs": [],
   "source": []
  },
  {
   "cell_type": "code",
   "execution_count": null,
   "id": "2a60f7ae-0de7-4861-960d-dd77f4da81f3",
   "metadata": {},
   "outputs": [],
   "source": []
  },
  {
   "cell_type": "code",
   "execution_count": null,
   "id": "2dc6dfce-70e9-4607-9ad3-0ad69d0ec844",
   "metadata": {},
   "outputs": [],
   "source": []
  },
  {
   "cell_type": "code",
   "execution_count": null,
   "id": "efd002e5-d446-4b4a-ae3f-ee762c9d878f",
   "metadata": {},
   "outputs": [],
   "source": []
  },
  {
   "cell_type": "code",
   "execution_count": null,
   "id": "c9912e86-a984-43e5-b426-a29d9099af2c",
   "metadata": {},
   "outputs": [],
   "source": []
  },
  {
   "cell_type": "code",
   "execution_count": null,
   "id": "89eb517d-d098-48f5-b060-065ea1d50921",
   "metadata": {},
   "outputs": [],
   "source": []
  },
  {
   "cell_type": "code",
   "execution_count": null,
   "id": "a4e8c959-bf10-44a2-9e45-f39656dd0ebc",
   "metadata": {},
   "outputs": [],
   "source": []
  },
  {
   "cell_type": "code",
   "execution_count": null,
   "id": "8396426c-d9dc-4f85-a86c-0feb6e9a661e",
   "metadata": {},
   "outputs": [],
   "source": []
  },
  {
   "cell_type": "code",
   "execution_count": null,
   "id": "9a7f55b2-b077-478c-8f3e-913b451d4759",
   "metadata": {},
   "outputs": [],
   "source": []
  },
  {
   "cell_type": "code",
   "execution_count": null,
   "id": "fdcbff85-2f5e-478f-9fcf-a0f7e864bdd4",
   "metadata": {},
   "outputs": [],
   "source": []
  },
  {
   "cell_type": "code",
   "execution_count": null,
   "id": "b515e1c5-bbad-4f56-852f-1f41a9d4ac5a",
   "metadata": {},
   "outputs": [],
   "source": []
  },
  {
   "cell_type": "code",
   "execution_count": null,
   "id": "0c883cd5-01af-46b7-a2f7-49e7352093e9",
   "metadata": {},
   "outputs": [],
   "source": []
  }
 ],
 "metadata": {
  "kernelspec": {
   "display_name": "Python 3 (ipykernel)",
   "language": "python",
   "name": "python3"
  },
  "language_info": {
   "codemirror_mode": {
    "name": "ipython",
    "version": 3
   },
   "file_extension": ".py",
   "mimetype": "text/x-python",
   "name": "python",
   "nbconvert_exporter": "python",
   "pygments_lexer": "ipython3",
   "version": "3.9.7"
  }
 },
 "nbformat": 4,
 "nbformat_minor": 5
}
