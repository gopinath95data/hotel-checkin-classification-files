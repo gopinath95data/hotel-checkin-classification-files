{
 "cells": [
  {
   "cell_type": "code",
   "execution_count": 1,
   "id": "1a76b579-eca8-49ce-8845-0421170dc9b2",
   "metadata": {},
   "outputs": [],
   "source": [
    "import pandas as pd\n",
    "import numpy as np\n",
    "\n",
    "from tensorflow.keras import Sequential\n",
    "from tensorflow.keras.layers import LSTM, Dense, Dropout\n",
    "\n",
    "from sklearn.preprocessing import StandardScaler, OneHotEncoder\n",
    "from sklearn.model_selection import train_test_split\n",
    "from sklearn.metrics import accuracy_score\n",
    "\n",
    "from joblib import dump, load\n"
   ]
  },
  {
   "cell_type": "code",
   "execution_count": null,
   "id": "8f86eb06-49cf-4fa0-8f9b-0db74b6e4747",
   "metadata": {},
   "outputs": [],
   "source": []
  },
  {
   "cell_type": "code",
   "execution_count": 3,
   "id": "caea4658-4010-47cf-a35e-b3a85326242c",
   "metadata": {},
   "outputs": [
    {
     "data": {
      "text/plain": [
       "['encoder.joblib']"
      ]
     },
     "execution_count": 3,
     "metadata": {},
     "output_type": "execute_result"
    }
   ],
   "source": [
    "df = pd.read_csv('./train.csv')\n",
    "df.drop(df.columns[0:2], axis=1, inplace=True)\n",
    "\n",
    "df.dropna(axis=0,inplace=True)\n",
    "df.reset_index(inplace=True)\n",
    "\n",
    "dfc = df.copy()\n",
    "top_c = dfc[\"Nationality\"].value_counts().index[0:10]\n",
    "dfc[\"new_nationality\"] = dfc[\"Nationality\"].apply(lambda x: x if x in top_c else \"Other\")\n",
    "dfc[\"has_not_appeared\"] = np.where((dfc[\"BookingsCheckedIn\"] == 0) , 1, 0)\n",
    "\n",
    "drop_cols = ['index','Nationality','BookingsCanceled','BookingsNoShowed','BookingsCheckedIn']\n",
    "cat_cols = [\"new_nationality\",\"MarketSegment\",\"DistributionChannel\"]\n",
    "\n",
    "ohe = OneHotEncoder(handle_unknown = 'ignore')\n",
    "encoded_train = ohe.fit_transform(dfc[cat_cols]).toarray()\n",
    "\n",
    "ohdf = pd.DataFrame(encoded_train,columns = ohe.get_feature_names(cat_cols))\n",
    "\n",
    "cat_cols_data = pd.get_dummies(dfc[cat_cols])\n",
    "\n",
    "combines_frames = [dfc,ohdf]\n",
    "dfc = pd.concat(combines_frames,axis=1)\n",
    "\n",
    "dfc.drop(drop_cols,axis=1,inplace=True)\n",
    "dfc.drop(cat_cols,axis=1,inplace=True)\n",
    "\n",
    "sc = StandardScaler()\n",
    "\n",
    "X = dfc.drop(\"has_not_appeared\",axis=1)\n",
    "y = dfc[\"has_not_appeared\"]\n",
    "y = pd.get_dummies(y).values\n",
    "\n",
    "X_train, X_test, y_train, y_test = train_test_split(X,y,stratify=y,test_size=0.2)\n",
    "\n",
    "sc.fit(X_train)\n",
    "\n",
    "dump(sc, 'scaler.joblib') \n",
    "dump(ohe, 'encoder.joblib') \n"
   ]
  },
  {
   "cell_type": "code",
   "execution_count": 4,
   "id": "4b3ef6dc-546b-4495-a18d-5b8a2472a30e",
   "metadata": {},
   "outputs": [],
   "source": [
    "\n",
    "def preprocess_data(df):\n",
    "    \n",
    "    dfn = df.drop(df.columns[0:2], axis=1)\n",
    "    dfn = dfn.dropna(axis=0)\n",
    "    dfn = dfn.reset_index()\n",
    "    \n",
    "    dfc = dfn.copy()\n",
    "    top_c = ['BRA', 'PRT', 'FRA', 'DEU', 'ITA', 'GBR', 'ESP', 'USA', 'NLD', 'CHE']\n",
    "    dfc[\"new_nationality\"] = dfc[\"Nationality\"].apply(lambda x: x if x in top_c else \"Other\")\n",
    "    dfc[\"has_not_appeared\"] = np.where( (dfc[\"BookingsCheckedIn\"] == 0) , 1, 0)\n",
    "    drop_cols = ['index','Nationality','BookingsCanceled','BookingsNoShowed','BookingsCheckedIn']\n",
    "    cat_cols = [\"new_nationality\",\"MarketSegment\",\"DistributionChannel\"]\n",
    "    \n",
    "    ohe = load('encoder.joblib')\n",
    "    sc = load('scaler.joblib')\n",
    "    \n",
    "    encoded_train = ohe.transform(dfc[cat_cols]).toarray()\n",
    "    \n",
    "    ohdf = pd.DataFrame(encoded_train,columns = ohe.get_feature_names(cat_cols))\n",
    "    \n",
    "    combines_frames = [dfc,ohdf]\n",
    "    dfc = pd.concat(combines_frames,axis=1)\n",
    "\n",
    "    dfc = dfc.drop(drop_cols,axis=1)\n",
    "    dfc = dfc.drop(cat_cols,axis=1)\n",
    "    \n",
    "    X = dfc.drop(\"has_not_appeared\",axis=1)\n",
    "    y = dfc[\"has_not_appeared\"]\n",
    "    y = pd.get_dummies(y).values\n",
    "\n",
    "    X = sc.transform(X)\n",
    "    \n",
    "    return X, y"
   ]
  },
  {
   "cell_type": "code",
   "execution_count": null,
   "id": "336eb0cd-9cbd-427d-abd4-fba5b13a452d",
   "metadata": {},
   "outputs": [
    {
     "data": {
      "text/plain": [
       "Index(['Unnamed: 0', 'ID', 'Nationality', 'Age', 'DaysSinceCreation',\n",
       "       'AverageLeadTime', 'LodgingRevenue', 'OtherRevenue', 'BookingsCanceled',\n",
       "       'BookingsNoShowed', 'BookingsCheckedIn', 'PersonsNights', 'RoomNights',\n",
       "       'DaysSinceLastStay', 'DaysSinceFirstStay', 'DistributionChannel',\n",
       "       'MarketSegment', 'SRHighFloor', 'SRLowFloor', 'SRAccessibleRoom',\n",
       "       'SRMediumFloor', 'SRBathtub', 'SRShower', 'SRCrib', 'SRKingSizeBed',\n",
       "       'SRTwinBed', 'SRNearElevator', 'SRAwayFromElevator',\n",
       "       'SRNoAlcoholInMiniBar', 'SRQuietRoom'],\n",
       "      dtype='object')"
      ]
     },
     "execution_count": 15,
     "metadata": {},
     "output_type": "execute_result"
    }
   ],
   "source": []
  },
  {
   "cell_type": "code",
   "execution_count": 7,
   "id": "c3c5bf2c-b68c-4bee-b6b0-3b1aae8388da",
   "metadata": {},
   "outputs": [],
   "source": [
    "df = pd.read_csv('./train.csv')\n",
    "\n",
    "X, y = preprocess_data(df)\n",
    "\n",
    "X_train, X_test, y_train, y_test = train_test_split(X,y,stratify=y,test_size=0.2)"
   ]
  },
  {
   "cell_type": "code",
   "execution_count": null,
   "id": "79f25e0b-5545-4dd0-acf4-0cee612e0f38",
   "metadata": {},
   "outputs": [],
   "source": []
  },
  {
   "cell_type": "code",
   "execution_count": 8,
   "id": "bbf5d5ac-ff19-43b8-85fe-dcfefc4629e2",
   "metadata": {},
   "outputs": [],
   "source": [
    "df = pd.read_csv('./test.csv')\n",
    "\n",
    "X, y = preprocess_data(df)"
   ]
  },
  {
   "cell_type": "code",
   "execution_count": 9,
   "id": "c08b4314-88ad-4029-9d97-5d748e69dc3f",
   "metadata": {},
   "outputs": [
    {
     "data": {
      "text/plain": [
       "Index(['Unnamed: 0', 'ID', 'Nationality', 'Age', 'DaysSinceCreation',\n",
       "       'AverageLeadTime', 'LodgingRevenue', 'OtherRevenue', 'BookingsCanceled',\n",
       "       'BookingsNoShowed', 'BookingsCheckedIn', 'PersonsNights', 'RoomNights',\n",
       "       'DaysSinceLastStay', 'DaysSinceFirstStay', 'DistributionChannel',\n",
       "       'MarketSegment', 'SRHighFloor', 'SRLowFloor', 'SRAccessibleRoom',\n",
       "       'SRMediumFloor', 'SRBathtub', 'SRShower', 'SRCrib', 'SRKingSizeBed',\n",
       "       'SRTwinBed', 'SRNearElevator', 'SRAwayFromElevator',\n",
       "       'SRNoAlcoholInMiniBar', 'SRQuietRoom'],\n",
       "      dtype='object')"
      ]
     },
     "execution_count": 9,
     "metadata": {},
     "output_type": "execute_result"
    }
   ],
   "source": [
    "df.columns"
   ]
  },
  {
   "cell_type": "code",
   "execution_count": null,
   "id": "037d7afe-506d-4851-960e-faeea9298820",
   "metadata": {},
   "outputs": [],
   "source": []
  },
  {
   "cell_type": "code",
   "execution_count": null,
   "id": "35b346af-eb1f-40db-96be-64a82c96f40c",
   "metadata": {},
   "outputs": [],
   "source": []
  },
  {
   "cell_type": "code",
   "execution_count": null,
   "id": "3f5aa683-70b7-4bf7-b14a-db5a88cc6b6b",
   "metadata": {},
   "outputs": [],
   "source": []
  },
  {
   "cell_type": "code",
   "execution_count": null,
   "id": "56b849dc-de55-4530-852c-7723ce1189c7",
   "metadata": {},
   "outputs": [],
   "source": []
  },
  {
   "cell_type": "code",
   "execution_count": null,
   "id": "5c4eda37-d1e4-4f2e-a9fe-d64144b22d23",
   "metadata": {},
   "outputs": [],
   "source": []
  },
  {
   "cell_type": "code",
   "execution_count": null,
   "id": "0741e47b-da4e-4fb9-9ae1-c141d238e2e8",
   "metadata": {},
   "outputs": [],
   "source": []
  },
  {
   "cell_type": "code",
   "execution_count": null,
   "id": "76a9aa1e-046a-432a-a29a-8000dacc6cfa",
   "metadata": {},
   "outputs": [],
   "source": []
  },
  {
   "cell_type": "code",
   "execution_count": null,
   "id": "daecbc00-55fe-469e-b585-6d891a89abdf",
   "metadata": {},
   "outputs": [],
   "source": []
  },
  {
   "cell_type": "code",
   "execution_count": null,
   "id": "3851329c-d3e7-43a0-aa95-f2f6ed402b08",
   "metadata": {},
   "outputs": [],
   "source": []
  },
  {
   "cell_type": "code",
   "execution_count": null,
   "id": "45dc42c9-371c-4a98-9885-2587fdff5446",
   "metadata": {},
   "outputs": [],
   "source": []
  },
  {
   "cell_type": "code",
   "execution_count": null,
   "id": "c94c1a7b-9fbd-4a30-b867-243ac9823b53",
   "metadata": {},
   "outputs": [],
   "source": [
    "model = Sequential()\n",
    "model.add(Dense(2, input_dim=44, activation='relu'))\n",
    "model.add(Dense(2, activation='softmax'))\n",
    "model.compile(loss='binary_crossentropy', optimizer='adam', metrics=['accuracy'])\n",
    "\n",
    "history = model.fit(X_train, y_train, validation_data=(X_test,y_test), epochs=7)\n"
   ]
  },
  {
   "cell_type": "code",
   "execution_count": null,
   "id": "07070fa1-b340-453b-9289-6e73f0c7d7c5",
   "metadata": {},
   "outputs": [],
   "source": [
    "preds = model.predict(X_train)\n",
    "preds_val = [x.argmax() for x in preds]\n",
    "y_train_vals = [x.argmax() for x in y_train]\n",
    "print(f\"train score - {accuracy_score(preds_val,y_train_vals)}\")"
   ]
  },
  {
   "cell_type": "code",
   "execution_count": null,
   "id": "17fbb234-7f6a-4a2f-9881-363dad1fe5a2",
   "metadata": {},
   "outputs": [],
   "source": [
    "\n",
    "df = pd.read_csv('./test.csv')\n",
    "Xt, yt = preprocess_data(df)\n",
    "test_preds = model.predict(Xt)\n",
    "preds_val = [x.argmax() for x in test_preds]\n",
    "y_test_vals = [x.argmax() for x in yt]\n",
    "print(f\"test score - {accuracy_score(y_test_vals,preds_val)}\")"
   ]
  },
  {
   "cell_type": "code",
   "execution_count": null,
   "id": "b93aaa95-294e-4fa5-b335-e038e807a62c",
   "metadata": {},
   "outputs": [],
   "source": []
  },
  {
   "cell_type": "code",
   "execution_count": 14,
   "id": "5ba21925-129f-424f-8554-a550a5026d75",
   "metadata": {},
   "outputs": [
    {
     "name": "stdout",
     "output_type": "stream",
     "text": [
      "INFO:tensorflow:Assets written to: nn/assets\n"
     ]
    }
   ],
   "source": [
    "model.save('nn/')"
   ]
  },
  {
   "cell_type": "code",
   "execution_count": null,
   "id": "2f47608a-a58d-4567-b4b0-7651f0a45d4b",
   "metadata": {},
   "outputs": [],
   "source": []
  },
  {
   "cell_type": "code",
   "execution_count": null,
   "id": "b73ca4c8-21a3-4a89-aa22-3b9275768819",
   "metadata": {},
   "outputs": [],
   "source": []
  },
  {
   "cell_type": "code",
   "execution_count": null,
   "id": "32dccbb5-fb33-4c18-96ac-87473e43203a",
   "metadata": {},
   "outputs": [],
   "source": []
  },
  {
   "cell_type": "code",
   "execution_count": null,
   "id": "80fd7e54-5fab-4cbe-9d1a-67e49a2e4aec",
   "metadata": {},
   "outputs": [],
   "source": []
  },
  {
   "cell_type": "code",
   "execution_count": null,
   "id": "e19669f3-1f0c-463a-8fed-105de0f66209",
   "metadata": {},
   "outputs": [],
   "source": []
  },
  {
   "cell_type": "code",
   "execution_count": 72,
   "id": "ecb6b37d-2a2c-4404-9b9d-14eca62ba658",
   "metadata": {},
   "outputs": [],
   "source": []
  },
  {
   "cell_type": "code",
   "execution_count": null,
   "id": "be856c56-42e2-4856-843c-8bd2a76994b3",
   "metadata": {},
   "outputs": [],
   "source": []
  },
  {
   "cell_type": "code",
   "execution_count": null,
   "id": "32360c92-477b-4447-9c96-021713204bc0",
   "metadata": {},
   "outputs": [],
   "source": []
  },
  {
   "cell_type": "code",
   "execution_count": null,
   "id": "884a70bf-6b76-4dc2-8e0b-b3aa4713508e",
   "metadata": {},
   "outputs": [],
   "source": []
  },
  {
   "cell_type": "code",
   "execution_count": 74,
   "id": "5e6ad4fa-aa9c-44ba-9d8b-26ce5e6f0237",
   "metadata": {},
   "outputs": [],
   "source": []
  },
  {
   "cell_type": "code",
   "execution_count": null,
   "id": "94dbcd6c-e913-479a-a833-45495dddf3c7",
   "metadata": {},
   "outputs": [],
   "source": []
  },
  {
   "cell_type": "code",
   "execution_count": null,
   "id": "6a3dba25-12e0-43e9-bebf-3a829c5d10d5",
   "metadata": {},
   "outputs": [],
   "source": []
  },
  {
   "cell_type": "code",
   "execution_count": 76,
   "id": "9a432dfd-3177-4d86-b243-0a21a18dd565",
   "metadata": {},
   "outputs": [],
   "source": []
  },
  {
   "cell_type": "code",
   "execution_count": null,
   "id": "9209f5e0-0a8f-46bb-ab4f-3ca00e3d9f7a",
   "metadata": {},
   "outputs": [],
   "source": []
  },
  {
   "cell_type": "code",
   "execution_count": null,
   "id": "3905b2e5-917b-440a-9785-56899e2bf3be",
   "metadata": {},
   "outputs": [],
   "source": []
  },
  {
   "cell_type": "code",
   "execution_count": null,
   "id": "1762cee8-82d1-4fd9-b40e-02d4e9e6acfb",
   "metadata": {},
   "outputs": [],
   "source": []
  },
  {
   "cell_type": "code",
   "execution_count": null,
   "id": "2ba03696-efb8-4468-b1e7-32688f636270",
   "metadata": {},
   "outputs": [],
   "source": []
  },
  {
   "cell_type": "code",
   "execution_count": 77,
   "id": "f1c6dfab-9ac3-4486-bc1c-40c79397c282",
   "metadata": {},
   "outputs": [],
   "source": []
  },
  {
   "cell_type": "code",
   "execution_count": 78,
   "id": "9edbe217-5a59-4674-b699-f07053122bb1",
   "metadata": {},
   "outputs": [
    {
     "data": {
      "text/plain": [
       "0.9741468459152016"
      ]
     },
     "execution_count": 78,
     "metadata": {},
     "output_type": "execute_result"
    }
   ],
   "source": []
  },
  {
   "cell_type": "code",
   "execution_count": null,
   "id": "9ae5e3c2-da40-44f7-aa2d-c0e212ea0482",
   "metadata": {},
   "outputs": [],
   "source": []
  },
  {
   "cell_type": "code",
   "execution_count": null,
   "id": "bd8af417-42bf-4a75-913a-f545ae896be9",
   "metadata": {},
   "outputs": [],
   "source": []
  }
 ],
 "metadata": {
  "kernelspec": {
   "display_name": "Python 3 (ipykernel)",
   "language": "python",
   "name": "python3"
  },
  "language_info": {
   "codemirror_mode": {
    "name": "ipython",
    "version": 3
   },
   "file_extension": ".py",
   "mimetype": "text/x-python",
   "name": "python",
   "nbconvert_exporter": "python",
   "pygments_lexer": "ipython3",
   "version": "3.9.7"
  }
 },
 "nbformat": 4,
 "nbformat_minor": 5
}
